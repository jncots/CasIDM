{
 "cells": [
  {
   "cell_type": "code",
   "execution_count": null,
   "metadata": {},
   "outputs": [],
   "source": [
    "%load_ext autoreload\n",
    "%autoreload 2\n",
    "import sys\n",
    "import numpy as np\n",
    "import matplotlib.pylab as plt"
   ]
  },
  {
   "cell_type": "code",
   "execution_count": null,
   "metadata": {},
   "outputs": [],
   "source": [
    "# Plot parameters\n",
    "params = {\"mathtext.default\": \"regular\",\n",
    "          \"text.usetex\": False,\n",
    "          \"figure.dpi\": 300}          \n",
    "plt.rcParams.update(params)"
   ]
  },
  {
   "cell_type": "code",
   "execution_count": null,
   "metadata": {},
   "outputs": [],
   "source": [
    "from casidm.cascade.cascade_driver import CascadeDriver, InteractionModel"
   ]
  },
  {
   "cell_type": "code",
   "execution_count": null,
   "metadata": {},
   "outputs": [],
   "source": [
    "import chromo\n",
    "target = chromo.kinematics.CompositeTarget([(\"N\", 0.78), (\"O\", 0.22)])\n",
    "ekin = chromo.kinematics.FixedTarget(1e10, \"p\", target)\n",
    "model = chromo.models.DpmjetIII193\n",
    "    \n",
    "int_model0 = InteractionModel(model, ekin, target)"
   ]
  },
  {
   "cell_type": "code",
   "execution_count": null,
   "metadata": {},
   "outputs": [],
   "source": [
    "from casidm.mceq_utils.mceq_comparison import HybridMCEq\n",
    "hybrid_mceq = HybridMCEq(pdg_id = 2212,\n",
    "                           energy = 1e7,\n",
    "                           theta_deg = 30,\n",
    "                           slant_depths=[1, 10, 100, 600, 900, 1000, 1195],\n",
    "                           energy_range=[1e-1, 2e7])\n",
    "\n",
    "hybrid_mceq.set_result_categories([\n",
    "                     (\"mu\", \"mu+\", \"mu-\"),\n",
    "                     (\"numu\", \"numu\", \"antinumu\"),\n",
    "                     (\"nue\", \"nue\", \"antinue\"),\n",
    "                     (\"pi\", \"pi+\", \"pi-\"),\n",
    "                     (\"pi0\", \"pi0\"),\n",
    "                     (\"el\", \"e+\", \"e-\"),\n",
    "                     (\"e+\", \"e+\"),\n",
    "                     (\"e-\", \"e-\")\n",
    "                     ])"
   ]
  },
  {
   "cell_type": "code",
   "execution_count": null,
   "metadata": {},
   "outputs": [],
   "source": [
    "regular_flux = hybrid_mceq.regular_solution()"
   ]
  },
  {
   "cell_type": "code",
   "execution_count": null,
   "metadata": {},
   "outputs": [],
   "source": [
    "cas_driver = hybrid_mceq.start_cascade_driver(int_model0, 1e2)"
   ]
  },
  {
   "cell_type": "code",
   "execution_count": null,
   "metadata": {},
   "outputs": [],
   "source": [
    "cas_driver.run(100)"
   ]
  },
  {
   "cell_type": "code",
   "execution_count": null,
   "metadata": {},
   "outputs": [],
   "source": [
    "import cProfile\n",
    "\n",
    "with cProfile.Profile() as pr:\n",
    "    cas_driver.run(1)\n",
    "    pr.dump_stats(\"cas_driver.prof\")"
   ]
  },
  {
   "cell_type": "code",
   "execution_count": null,
   "metadata": {},
   "outputs": [],
   "source": [
    "hybrid_flux = hybrid_mceq.hybrid_solution(10, restart = False)"
   ]
  },
  {
   "cell_type": "code",
   "execution_count": null,
   "metadata": {},
   "outputs": [],
   "source": [
    "from casidm.cascade.cascade_analysis import CascadeAnalysis\n",
    "cascade_analysis = CascadeAnalysis(cas_driver)"
   ]
  },
  {
   "cell_type": "code",
   "execution_count": null,
   "metadata": {},
   "outputs": [],
   "source": [
    "cascade_analysis.plot_ptypes_dist(from_ = 1, to_ = 20, per_run=True)"
   ]
  },
  {
   "cell_type": "code",
   "execution_count": null,
   "metadata": {},
   "outputs": [],
   "source": [
    "line_colors = plt.rcParams['axes.prop_cycle'].by_key()['color']\n",
    "plt.figure(figsize=(8, 6))\n",
    "# plt.rcParams['figure.figsize'] = [4, 3]\n",
    "ixdepth = 0\n",
    "# plt.stairs(mceq_dist.flux[ixdepth][\"pi0\"], mceq_dist.e_bins, \n",
    "#            label = r\"${\\mu}^{+} + {\\mu}^{-}$ Hybrid\" + f\"{mceq_dist.slant_depths[ixdepth]}\", \n",
    "#            linestyle='-',\n",
    "#            color = line_colors[0])\n",
    "ixdepths = range(len(hybrid_mceq.slant_depths))\n",
    "# ixdepths = [4, 5, 6]\n",
    "for ixdepth in ixdepths:\n",
    "    plt.stairs(hybrid_flux[ixdepth][\"mu\"], hybrid_mceq.e_bins, \n",
    "            label = r\"${\\mu}^{+} + {\\mu}^{-}$ Hybrid X=\" + f\"{hybrid_mceq.slant_depths[ixdepth]}g/cm2\", \n",
    "            linestyle='--',\n",
    "            color = line_colors[ixdepth])\n",
    "    \n",
    "    plt.stairs(regular_flux[ixdepth][\"mu\"], hybrid_mceq.e_bins, \n",
    "            label = r\"${\\mu}^{+} + {\\mu}^{-}$ MCEq X=\" + f\"{hybrid_mceq.slant_depths[ixdepth]}g/cm2\", \n",
    "            # linestyle='--',\n",
    "            color = line_colors[ixdepth])\n",
    "\n",
    "\n",
    "plt.xscale(\"log\")\n",
    "plt.yscale(\"log\")\n",
    "plt.xlim(1e-2, 1e11)\n",
    "plt.ylim(1e-7, 1e7)\n",
    "plt.legend(fontsize=\"7\")\n",
    "plt.grid()\n",
    "plt.title(\"\\nPrimary particle: proton. \" \n",
    "          +  r\"$E_{tot}=10^{6}$ GeV\" + r\", $\\theta = 30^{\\circ}$\")\n",
    "plt.xlabel(r\"$E_{kin}$, GeV\")\n",
    "plt.ylabel(r\"Counts/bin/primary\")"
   ]
  },
  {
   "cell_type": "code",
   "execution_count": null,
   "metadata": {},
   "outputs": [],
   "source": [
    "line_colors = plt.rcParams['axes.prop_cycle'].by_key()['color']\n",
    "ixdepth = 0\n",
    "# plt.stairs(mceq_dist.flux[ixdepth][\"pi0\"], mceq_dist.e_bins, \n",
    "#            label = r\"${\\mu}^{+} + {\\mu}^{-}$ Hybrid\" + f\"{mceq_dist.slant_depths[ixdepth]}\", \n",
    "#            linestyle='-',\n",
    "#            color = line_colors[0])\n",
    "ixdepths = range(len(hybrid_mceq.slant_depths))\n",
    "ixdepths = [4, 5, 6]\n",
    "for ixdepth in ixdepths:\n",
    "    # plt.stairs(mceq_dist.flux[ixdepth][\"mu\"], mceq_dist.e_bins, \n",
    "    #         label = r\"${\\mu}^{+} + {\\mu}^{-}$ MCEq\" + f\"{mceq_dist.slant_depths[ixdepth]}\", \n",
    "    #         linestyle='--',\n",
    "    #         color = line_colors[ixdepth])\n",
    "    \n",
    "    plt.stairs(hybrid_flux[ixdepth][\"mu\"]/regular_flux[ixdepth][\"mu\"], hybrid_mceq.e_bins, \n",
    "            label = r\"${\\mu}^{+} + {\\mu}^{-}$, X=\" + f\"{hybrid_mceq.slant_depths[ixdepth]}g/cm2\", \n",
    "            # linestyle='--',\n",
    "            color = line_colors[ixdepth])\n",
    "\n",
    "plt.xscale(\"log\")\n",
    "# plt.yscale(\"log\")\n",
    "plt.xlim(1e-2, 1e5)\n",
    "plt.ylim(0.5, 1.2)\n",
    "plt.legend(fontsize=\"7\")\n",
    "plt.grid()\n",
    "plt.title(\"Ratio Hybrid/MCEq\"+ \"\\nPrimary particle: proton. \" \n",
    "          +  r\"$E_{tot}=10^{6}$ GeV\" + r\", $\\theta = 30^{\\circ}$\")\n",
    "plt.xlabel(r\"$E_{kin}$, GeV\")\n",
    "plt.ylabel(r\"Counts/bin/primary\")"
   ]
  },
  {
   "cell_type": "code",
   "execution_count": null,
   "metadata": {},
   "outputs": [],
   "source": [
    "from casidm.cascade.cascade_analysis import CascadeAnalysis\n",
    "cascade_analysis = CascadeAnalysis(cas_driver)\n",
    "cascade_analysis.print_stats()"
   ]
  }
 ],
 "metadata": {
  "kernelspec": {
   "display_name": "env_impy",
   "language": "python",
   "name": "python3"
  },
  "language_info": {
   "codemirror_mode": {
    "name": "ipython",
    "version": 3
   },
   "file_extension": ".py",
   "mimetype": "text/x-python",
   "name": "python",
   "nbconvert_exporter": "python",
   "pygments_lexer": "ipython3",
   "version": "3.9.13"
  }
 },
 "nbformat": 4,
 "nbformat_minor": 2
}
